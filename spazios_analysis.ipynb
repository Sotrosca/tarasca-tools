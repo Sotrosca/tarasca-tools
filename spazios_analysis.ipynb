{
 "cells": [
  {
   "cell_type": "code",
   "execution_count": 65,
   "metadata": {},
   "outputs": [],
   "source": [
    "import numpy as np\n",
    "import pandas as pd"
   ]
  },
  {
   "cell_type": "code",
   "execution_count": 66,
   "metadata": {},
   "outputs": [],
   "source": [
    "anticipo = 5200\n",
    "\n",
    "cuota = 848\n",
    "nro_cuotas = 50"
   ]
  },
  {
   "cell_type": "code",
   "execution_count": 67,
   "metadata": {},
   "outputs": [
    {
     "data": {
      "text/plain": [
       "47600"
      ]
     },
     "execution_count": 67,
     "metadata": {},
     "output_type": "execute_result"
    }
   ],
   "source": [
    "total = anticipo + cuota * nro_cuotas\n",
    "total"
   ]
  },
  {
   "cell_type": "code",
   "execution_count": 68,
   "metadata": {},
   "outputs": [],
   "source": [
    "anticipo_pesos = 15000\n",
    "cuota_pesos = 176022\n"
   ]
  },
  {
   "cell_type": "code",
   "execution_count": 69,
   "metadata": {},
   "outputs": [
    {
     "data": {
      "text/plain": [
       "8816100"
      ]
     },
     "execution_count": 69,
     "metadata": {},
     "output_type": "execute_result"
    }
   ],
   "source": [
    "total_pesos = anticipo_pesos + cuota_pesos * nro_cuotas\n",
    "total_pesos"
   ]
  },
  {
   "cell_type": "code",
   "execution_count": 70,
   "metadata": {},
   "outputs": [],
   "source": [
    "cambio_dolar = total_pesos / total"
   ]
  },
  {
   "cell_type": "code",
   "execution_count": 71,
   "metadata": {},
   "outputs": [],
   "source": [
    "def calcular_total_pagado(anticipo, cuota, nro_cuotas):\n",
    "    total = anticipo + cuota * nro_cuotas\n",
    "    return total"
   ]
  },
  {
   "cell_type": "code",
   "execution_count": 72,
   "metadata": {},
   "outputs": [],
   "source": [
    "total_gastado_dolares = calcular_total_pagado(anticipo, cuota, nro_cuotas)\n",
    "cotizacion_depto_dolares = 65000"
   ]
  },
  {
   "cell_type": "code",
   "execution_count": 73,
   "metadata": {},
   "outputs": [
    {
     "data": {
      "text/plain": [
       "1.365546218487395"
      ]
     },
     "execution_count": 73,
     "metadata": {},
     "output_type": "execute_result"
    }
   ],
   "source": [
    "cotizacion_depto_dolares / total_gastado_dolares"
   ]
  },
  {
   "cell_type": "code",
   "execution_count": 74,
   "metadata": {},
   "outputs": [
    {
     "data": {
      "text/plain": [
       "0.365546218487395"
      ]
     },
     "execution_count": 74,
     "metadata": {},
     "output_type": "execute_result"
    }
   ],
   "source": [
    "rendimiento_dolares = (cotizacion_depto_dolares / total_gastado_dolares) - 1\n",
    "rendimiento_dolares"
   ]
  },
  {
   "cell_type": "code",
   "execution_count": 75,
   "metadata": {},
   "outputs": [],
   "source": [
    "total_gastado_pesos = calcular_total_pagado(anticipo_pesos, cuota_pesos, nro_cuotas)\n",
    "cotizacion_depto_pesos = 65000 * cambio_dolar"
   ]
  },
  {
   "cell_type": "code",
   "execution_count": 76,
   "metadata": {},
   "outputs": [
    {
     "data": {
      "text/plain": [
       "8816100"
      ]
     },
     "execution_count": 76,
     "metadata": {},
     "output_type": "execute_result"
    }
   ],
   "source": [
    "total_gastado_pesos"
   ]
  },
  {
   "cell_type": "code",
   "execution_count": 77,
   "metadata": {},
   "outputs": [
    {
     "data": {
      "text/plain": [
       "0.365546218487395"
      ]
     },
     "execution_count": 77,
     "metadata": {},
     "output_type": "execute_result"
    }
   ],
   "source": [
    "rendimiento_pesos = (cotizacion_depto_pesos / total_gastado_pesos) - 1\n",
    "rendimiento_pesos"
   ]
  },
  {
   "cell_type": "markdown",
   "metadata": {},
   "source": [
    "## Veamos cómo sería poner la plata en un plazo fijo"
   ]
  },
  {
   "cell_type": "code",
   "execution_count": 386,
   "metadata": {},
   "outputs": [],
   "source": [
    "def simular_inversion(monto_inicial, meses, tna, agregar_monto_inicial_por_mes=True, inflacion_mensual=0.035):\n",
    "    '''\n",
    "    Simula una inversion de un monto en una cantidad de meses.\n",
    "    @param monto_inicial: monto inicial de la inversión\n",
    "    @param meses: cantidad de meses a simular\n",
    "    @param tna: tasa nominal anual de la inversion\n",
    "    @param agregar_monto_inicial_por_mes: si es True, agrega el monto inicial recalculado por inflacion a la inversion por mes\n",
    "    @param inflacion_mensual: inflacion mensual\n",
    "    @return: lista con la tenencia de la inversion por mes y lista con los montos aportados por mes en la inversion\n",
    "    '''\n",
    "    interes = tna / 12\n",
    "    montos_agregados = []\n",
    "    if agregar_monto_inicial_por_mes:\n",
    "        tenencia_por_mes = [monto_inicial]\n",
    "        montos_agregados = [monto_inicial]\n",
    "        monto_auxiliar = tenencia_por_mes[-1]\n",
    "        for i in range(1, meses):\n",
    "            monto_agregado = monto_inicial * (1 + inflacion_mensual) ** i\n",
    "            monto_aumentado = (monto_auxiliar + monto_agregado)\n",
    "            montos_agregados.append(monto_agregado)\n",
    "            tenencia_por_mes.append(monto_aumentado * (1 + interes))\n",
    "            monto_auxiliar = tenencia_por_mes[-1]\n",
    "    else:\n",
    "        tenencia_por_mes = [monto_inicial * (1 + interes) ** i for i in range(0, meses)]\n",
    "        montos_agregados = [0 for i in range(0, meses)]\n",
    "    \n",
    "    return tenencia_por_mes, montos_agregados\n",
    "\n",
    "def calcular_precio_con_inflacion(precio, meses, inflacion_mensual):\n",
    "    '''\n",
    "    Calcula el precio de un activo que se ajusta a la inflacion mensual luego de una cantidad de meses.\n",
    "    @param precio: precio inicial del activo\n",
    "    @param meses: cantidad de meses a ajustar\n",
    "    @param inflacion_mensual: inflacion mensual\n",
    "    @return: lista con el precio del activo ajustado por mes\n",
    "    '''\n",
    "    precio_recalculado_por_mes = [precio * (1 + inflacion_mensual) ** i for i in range(0, meses)]\n",
    "    return precio_recalculado_por_mes    \n"
   ]
  },
  {
   "cell_type": "code",
   "execution_count": 387,
   "metadata": {},
   "outputs": [],
   "source": [
    "tenencia_por_mes, montos_agregados = simular_inversion(cuota_pesos * 2, 12, tna=2.6, agregar_monto_inicial_por_mes=True, inflacion_mensual=0)\n",
    "tenencia_por_mes = np.array(tenencia_por_mes)"
   ]
  },
  {
   "cell_type": "code",
   "execution_count": 388,
   "metadata": {},
   "outputs": [],
   "source": [
    "precio_depto_recalculado_por_mes = calcular_precio_con_inflacion(cotizacion_depto_pesos, 12, 0.035)\n",
    "precio_depto_recalculado_por_mes = np.array(precio_depto_recalculado_por_mes)"
   ]
  },
  {
   "cell_type": "code",
   "execution_count": 392,
   "metadata": {},
   "outputs": [
    {
     "data": {
      "text/plain": [
       "12038792.016806724"
      ]
     },
     "execution_count": 392,
     "metadata": {},
     "output_type": "execute_result"
    }
   ],
   "source": [
    "cotizacion_depto_pesos"
   ]
  },
  {
   "cell_type": "code",
   "execution_count": 389,
   "metadata": {},
   "outputs": [
    {
     "data": {
      "text/plain": [
       "0.9677378927955371"
      ]
     },
     "execution_count": 389,
     "metadata": {},
     "output_type": "execute_result"
    }
   ],
   "source": [
    "relacion_depto_monto_por_mes = precio_depto_recalculado_por_mes / tenencia_por_mes\n",
    "relacion_depto_monto_por_mes[-1]"
   ]
  },
  {
   "cell_type": "code",
   "execution_count": 390,
   "metadata": {},
   "outputs": [
    {
     "data": {
      "text/plain": [
       "array([12038792.01680672, 12460149.73739496, 12896254.97820378,\n",
       "       13347623.90244091, 13814790.73902634, 14298308.41489226,\n",
       "       14798749.20941349, 15316705.43174296, 15852790.12185396,\n",
       "       16407637.77611885, 16981905.09828301, 17576271.77672292])"
      ]
     },
     "execution_count": 390,
     "metadata": {},
     "output_type": "execute_result"
    }
   ],
   "source": [
    "precio_depto_recalculado_por_mes"
   ]
  },
  {
   "cell_type": "code",
   "execution_count": 391,
   "metadata": {},
   "outputs": [
    {
     "data": {
      "text/plain": [
       "array([  352044.        ,   856640.4       ,  1470566.02      ,\n",
       "        2217508.85766667,  3126289.31016111,  4231972.19402935,\n",
       "        5577219.70273571,  7213937.50499512,  9205277.49774406,\n",
       "       11628074.48892194, 14575810.82818837, 18162223.37429585])"
      ]
     },
     "execution_count": 391,
     "metadata": {},
     "output_type": "execute_result"
    }
   ],
   "source": [
    "tenencia_por_mes"
   ]
  },
  {
   "cell_type": "code",
   "execution_count": 80,
   "metadata": {},
   "outputs": [],
   "source": [
    "monto_por_mes_dolares = calcular_monto_inversion(cuota, nro_cuotas, 0.435, agregar_monto_inicial_por_mes=True)"
   ]
  },
  {
   "cell_type": "code",
   "execution_count": 81,
   "metadata": {},
   "outputs": [
    {
     "data": {
      "text/plain": [
       "-47805.63836599128"
      ]
     },
     "execution_count": 81,
     "metadata": {},
     "output_type": "execute_result"
    }
   ],
   "source": [
    "cotizacion_depto_dolares - monto_por_mes_dolares[-1]"
   ]
  },
  {
   "cell_type": "code",
   "execution_count": 52,
   "metadata": {},
   "outputs": [
    {
     "data": {
      "text/plain": [
       "1.4947909977484426"
      ]
     },
     "execution_count": 52,
     "metadata": {},
     "output_type": "execute_result"
    }
   ],
   "source": [
    "rendimiento_mock = (monto_por_mes[-1] / total_gastado_pesos) - 1\n",
    "rendimiento_mock"
   ]
  },
  {
   "cell_type": "code",
   "execution_count": 53,
   "metadata": {},
   "outputs": [],
   "source": [
    "# Quito valor por inflacion\n",
    "inflacion_anual = 0.5\n",
    "monto_final_inflacion = monto_por_mes[-1] * inflacion_anual ** (nro_cuotas / 12)"
   ]
  },
  {
   "cell_type": "code",
   "execution_count": 54,
   "metadata": {},
   "outputs": [
    {
     "data": {
      "text/plain": [
       "-0.8610871186298659"
      ]
     },
     "execution_count": 54,
     "metadata": {},
     "output_type": "execute_result"
    }
   ],
   "source": [
    "rendimiento_mock_inflacion = (monto_final_inflacion / total_gastado_pesos) - 1\n",
    "rendimiento_mock_inflacion"
   ]
  },
  {
   "cell_type": "code",
   "execution_count": 58,
   "metadata": {},
   "outputs": [
    {
     "data": {
      "text/plain": [
       "23407250.010130245"
      ]
     },
     "execution_count": 58,
     "metadata": {},
     "output_type": "execute_result"
    }
   ],
   "source": [
    "cotizacion_depto_pesos_inflacion = cotizacion_depto_pesos * (2 - inflacion_anual ** (nro_cuotas / 12))\n",
    "cotizacion_depto_pesos_inflacion"
   ]
  },
  {
   "cell_type": "code",
   "execution_count": 7,
   "metadata": {},
   "outputs": [
    {
     "data": {
      "text/plain": [
       "1.344888824246297"
      ]
     },
     "execution_count": 7,
     "metadata": {},
     "output_type": "execute_result"
    }
   ],
   "source": [
    "(1 + 0.025) ** 12"
   ]
  },
  {
   "cell_type": "code",
   "execution_count": null,
   "metadata": {},
   "outputs": [],
   "source": []
  }
 ],
 "metadata": {
  "interpreter": {
   "hash": "ca415ea8dd3c6f844fbd420652cf34c53fb9886270ae42a84aa8e092eb959003"
  },
  "kernelspec": {
   "display_name": "Python 3.9.7 ('tf')",
   "language": "python",
   "name": "python3"
  },
  "language_info": {
   "codemirror_mode": {
    "name": "ipython",
    "version": 3
   },
   "file_extension": ".py",
   "mimetype": "text/x-python",
   "name": "python",
   "nbconvert_exporter": "python",
   "pygments_lexer": "ipython3",
   "version": "3.9.7"
  },
  "orig_nbformat": 4
 },
 "nbformat": 4,
 "nbformat_minor": 2
}
